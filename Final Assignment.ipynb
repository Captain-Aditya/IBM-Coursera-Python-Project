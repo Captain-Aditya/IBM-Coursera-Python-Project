{
 "cells": [
  {
   "cell_type": "code",
   "execution_count": 9,
   "metadata": {
    "tags": []
   },
   "outputs": [
    {
     "name": "stdout",
     "output_type": "stream",
     "text": [
      "Defaulting to user installation because normal site-packages is not writeable\n",
      "Requirement already satisfied: yfinance==0.1.67 in c:\\users\\aditya mishra\\appdata\\roaming\\python\\python311\\site-packages (0.1.67)\n",
      "Requirement already satisfied: pandas>=0.24 in c:\\users\\aditya mishra\\appdata\\roaming\\python\\python311\\site-packages (from yfinance==0.1.67) (2.2.2)\n",
      "Requirement already satisfied: numpy>=1.15 in c:\\users\\aditya mishra\\appdata\\roaming\\python\\python311\\site-packages (from yfinance==0.1.67) (1.26.4)\n",
      "Requirement already satisfied: requests>=2.20 in c:\\users\\aditya mishra\\appdata\\roaming\\python\\python311\\site-packages (from yfinance==0.1.67) (2.32.3)\n",
      "Requirement already satisfied: multitasking>=0.0.7 in c:\\users\\aditya mishra\\appdata\\roaming\\python\\python311\\site-packages (from yfinance==0.1.67) (0.0.11)\n",
      "Requirement already satisfied: lxml>=4.5.1 in c:\\users\\aditya mishra\\appdata\\roaming\\python\\python311\\site-packages (from yfinance==0.1.67) (5.2.2)\n",
      "Requirement already satisfied: python-dateutil>=2.8.2 in c:\\users\\aditya mishra\\appdata\\roaming\\python\\python311\\site-packages (from pandas>=0.24->yfinance==0.1.67) (2.9.0.post0)\n",
      "Requirement already satisfied: pytz>=2020.1 in c:\\users\\aditya mishra\\appdata\\roaming\\python\\python311\\site-packages (from pandas>=0.24->yfinance==0.1.67) (2024.1)\n",
      "Requirement already satisfied: tzdata>=2022.7 in c:\\users\\aditya mishra\\appdata\\roaming\\python\\python311\\site-packages (from pandas>=0.24->yfinance==0.1.67) (2024.1)\n",
      "Requirement already satisfied: charset-normalizer<4,>=2 in c:\\users\\aditya mishra\\appdata\\roaming\\python\\python311\\site-packages (from requests>=2.20->yfinance==0.1.67) (3.3.2)\n",
      "Requirement already satisfied: idna<4,>=2.5 in c:\\users\\aditya mishra\\appdata\\roaming\\python\\python311\\site-packages (from requests>=2.20->yfinance==0.1.67) (3.7)\n",
      "Requirement already satisfied: urllib3<3,>=1.21.1 in c:\\users\\aditya mishra\\appdata\\roaming\\python\\python311\\site-packages (from requests>=2.20->yfinance==0.1.67) (2.2.1)\n",
      "Requirement already satisfied: certifi>=2017.4.17 in c:\\users\\aditya mishra\\appdata\\roaming\\python\\python311\\site-packages (from requests>=2.20->yfinance==0.1.67) (2024.2.2)\n",
      "Requirement already satisfied: six>=1.5 in c:\\users\\aditya mishra\\appdata\\roaming\\python\\python311\\site-packages (from python-dateutil>=2.8.2->pandas>=0.24->yfinance==0.1.67) (1.16.0)\n"
     ]
    },
    {
     "name": "stderr",
     "output_type": "stream",
     "text": [
      "\n",
      "[notice] A new release of pip is available: 24.0 -> 24.1.1\n",
      "[notice] To update, run: python.exe -m pip install --upgrade pip\n",
      "'mamba' is not recognized as an internal or external command,\n",
      "operable program or batch file.\n"
     ]
    },
    {
     "name": "stdout",
     "output_type": "stream",
     "text": [
      "Defaulting to user installation because normal site-packages is not writeable\n",
      "Requirement already satisfied: nbformat==4.2.0 in c:\\users\\aditya mishra\\appdata\\roaming\\python\\python311\\site-packages (4.2.0)\n",
      "Requirement already satisfied: ipython-genutils in c:\\users\\aditya mishra\\appdata\\roaming\\python\\python311\\site-packages (from nbformat==4.2.0) (0.2.0)\n",
      "Requirement already satisfied: jsonschema!=2.5.0,>=2.4 in c:\\users\\aditya mishra\\appdata\\roaming\\python\\python311\\site-packages (from nbformat==4.2.0) (4.22.0)\n",
      "Requirement already satisfied: jupyter-core in c:\\users\\aditya mishra\\appdata\\roaming\\python\\python311\\site-packages (from nbformat==4.2.0) (5.7.2)\n",
      "Requirement already satisfied: traitlets>=4.1 in c:\\users\\aditya mishra\\appdata\\roaming\\python\\python311\\site-packages (from nbformat==4.2.0) (5.14.3)\n",
      "Requirement already satisfied: attrs>=22.2.0 in c:\\users\\aditya mishra\\appdata\\roaming\\python\\python311\\site-packages (from jsonschema!=2.5.0,>=2.4->nbformat==4.2.0) (23.2.0)\n",
      "Requirement already satisfied: jsonschema-specifications>=2023.03.6 in c:\\users\\aditya mishra\\appdata\\roaming\\python\\python311\\site-packages (from jsonschema!=2.5.0,>=2.4->nbformat==4.2.0) (2023.12.1)\n",
      "Requirement already satisfied: referencing>=0.28.4 in c:\\users\\aditya mishra\\appdata\\roaming\\python\\python311\\site-packages (from jsonschema!=2.5.0,>=2.4->nbformat==4.2.0) (0.35.1)\n",
      "Requirement already satisfied: rpds-py>=0.7.1 in c:\\users\\aditya mishra\\appdata\\roaming\\python\\python311\\site-packages (from jsonschema!=2.5.0,>=2.4->nbformat==4.2.0) (0.18.1)\n",
      "Requirement already satisfied: platformdirs>=2.5 in c:\\users\\aditya mishra\\appdata\\roaming\\python\\python311\\site-packages (from jupyter-core->nbformat==4.2.0) (4.2.0)\n",
      "Requirement already satisfied: pywin32>=300 in c:\\users\\aditya mishra\\appdata\\roaming\\python\\python311\\site-packages (from jupyter-core->nbformat==4.2.0) (306)\n"
     ]
    },
    {
     "name": "stderr",
     "output_type": "stream",
     "text": [
      "\n",
      "[notice] A new release of pip is available: 24.0 -> 24.1.1\n",
      "[notice] To update, run: python.exe -m pip install --upgrade pip\n"
     ]
    }
   ],
   "source": [
    "!pip install yfinance==0.1.67\n",
    "!mamba install bs4==4.10.0 -y\n",
    "!pip install nbformat==4.2.0"
   ]
  },
  {
   "cell_type": "code",
   "execution_count": 21,
   "metadata": {
    "tags": []
   },
   "outputs": [
    {
     "ename": "ImportError",
     "evalue": "cannot import name 'company' from partially initialized module 'ticker' (most likely due to a circular import) (C:\\Users\\Aditya Mishra\\AppData\\Roaming\\Python\\Python311\\site-packages\\ticker\\__init__.py)",
     "output_type": "error",
     "traceback": [
      "\u001b[1;31m---------------------------------------------------------------------------\u001b[0m",
      "\u001b[1;31mImportError\u001b[0m                               Traceback (most recent call last)",
      "Cell \u001b[1;32mIn[21], line 2\u001b[0m\n\u001b[0;32m      1\u001b[0m \u001b[38;5;28;01mimport\u001b[39;00m \u001b[38;5;21;01myfinance\u001b[39;00m \u001b[38;5;28;01mas\u001b[39;00m \u001b[38;5;21;01myf\u001b[39;00m\n\u001b[1;32m----> 2\u001b[0m \u001b[38;5;28;01mimport\u001b[39;00m \u001b[38;5;21;01mticker\u001b[39;00m\n\u001b[0;32m      3\u001b[0m \u001b[38;5;28;01mimport\u001b[39;00m \u001b[38;5;21;01mpandas\u001b[39;00m \u001b[38;5;28;01mas\u001b[39;00m \u001b[38;5;21;01mpd\u001b[39;00m\n\u001b[0;32m      4\u001b[0m \u001b[38;5;28;01mimport\u001b[39;00m \u001b[38;5;21;01mrequests\u001b[39;00m\n",
      "File \u001b[1;32m~\\AppData\\Roaming\\Python\\Python311\\site-packages\\ticker\\__init__.py:1\u001b[0m\n\u001b[1;32m----> 1\u001b[0m \u001b[38;5;28;01mfrom\u001b[39;00m \u001b[38;5;21;01mticker\u001b[39;00m \u001b[38;5;28;01mimport\u001b[39;00m company\n",
      "\u001b[1;31mImportError\u001b[0m: cannot import name 'company' from partially initialized module 'ticker' (most likely due to a circular import) (C:\\Users\\Aditya Mishra\\AppData\\Roaming\\Python\\Python311\\site-packages\\ticker\\__init__.py)"
     ]
    }
   ],
   "source": [
    "import yfinance as yf\n",
    "import ticker\n",
    "import pandas as pd\n",
    "import requests\n",
    "from bs4 import BeautifulSoup\n",
    "import plotly.graph_objects as go\n",
    "from plotly.subplots import make_subplots"
   ]
  },
  {
   "cell_type": "code",
   "execution_count": 11,
   "metadata": {
    "tags": []
   },
   "outputs": [],
   "source": [
    "import warnings\n",
    "# Ignore all warnings\n",
    "warnings.filterwarnings(\"ignore\", category=FutureWarning)"
   ]
  },
  {
   "cell_type": "code",
   "execution_count": 12,
   "metadata": {
    "tags": []
   },
   "outputs": [],
   "source": [
    "def make_graph(stock_data, revenue_data, stock):\n",
    "    fig = make_subplots(rows=2, cols=1, shared_xaxes=True, subplot_titles=(\"Historical Share Price\", \"Historical Revenue\"), vertical_spacing = .3)\n",
    "    stock_data_specific = stock_data[stock_data.Date <= '2021--06-14']\n",
    "    revenue_data_specific = revenue_data[revenue_data.Date <= '2021-04-30']\n",
    "    fig.add_trace(go.Scatter(x=pd.to_datetime(stock_data_specific.Date, infer_datetime_format=True), y=stock_data_specific.Close.astype(\"float\"), name=\"Share Price\"), row=1, col=1)\n",
    "    fig.add_trace(go.Scatter(x=pd.to_datetime(revenue_data_specific.Date, infer_datetime_format=True), y=revenue_data_specific.Revenue.astype(\"float\"), name=\"Revenue\"), row=2, col=1)\n",
    "    fig.update_xaxes(title_text=\"Date\", row=1, col=1)\n",
    "    fig.update_xaxes(title_text=\"Date\", row=2, col=1)\n",
    "    fig.update_yaxes(title_text=\"Price ($US)\", row=1, col=1)\n",
    "    fig.update_yaxes(title_text=\"Revenue ($US Millions)\", row=2, col=1)\n",
    "    fig.update_layout(showlegend=False,height=900,title=stock,xaxis_rangeslider_visible=True)\n",
    "    fig.show()"
   ]
  },
  {
   "cell_type": "code",
   "execution_count": 13,
   "metadata": {
    "tags": []
   },
   "outputs": [],
   "source": [
    "Tesla = yf.Ticker(\"TSLA\")"
   ]
  },
  {
   "cell_type": "code",
   "execution_count": 14,
   "metadata": {
    "tags": []
   },
   "outputs": [
    {
     "ename": "AttributeError",
     "evalue": "'Index' object has no attribute 'tz_localize'",
     "output_type": "error",
     "traceback": [
      "\u001b[1;31m---------------------------------------------------------------------------\u001b[0m",
      "\u001b[1;31mAttributeError\u001b[0m                            Traceback (most recent call last)",
      "Cell \u001b[1;32mIn[14], line 1\u001b[0m\n\u001b[1;32m----> 1\u001b[0m tesla_data \u001b[38;5;241m=\u001b[39m \u001b[43mTesla\u001b[49m\u001b[38;5;241;43m.\u001b[39;49m\u001b[43mhistory\u001b[49m\u001b[43m(\u001b[49m\u001b[43mperiod\u001b[49m\u001b[38;5;241;43m=\u001b[39;49m\u001b[38;5;124;43m\"\u001b[39;49m\u001b[38;5;124;43mmax\u001b[39;49m\u001b[38;5;124;43m\"\u001b[39;49m\u001b[43m)\u001b[49m\n",
      "File \u001b[1;32m~\\AppData\\Roaming\\Python\\Python311\\site-packages\\yfinance\\base.py:279\u001b[0m, in \u001b[0;36mTickerBase.history\u001b[1;34m(self, period, interval, start, end, prepost, actions, auto_adjust, back_adjust, proxy, rounding, tz, timeout, **kwargs)\u001b[0m\n\u001b[0;32m    276\u001b[0m df[\u001b[38;5;124m\"\u001b[39m\u001b[38;5;124mStock Splits\u001b[39m\u001b[38;5;124m\"\u001b[39m]\u001b[38;5;241m.\u001b[39mfillna(\u001b[38;5;241m0\u001b[39m, inplace\u001b[38;5;241m=\u001b[39m\u001b[38;5;28;01mTrue\u001b[39;00m)\n\u001b[0;32m    278\u001b[0m \u001b[38;5;66;03m# index eod/intraday\u001b[39;00m\n\u001b[1;32m--> 279\u001b[0m df\u001b[38;5;241m.\u001b[39mindex \u001b[38;5;241m=\u001b[39m \u001b[43mdf\u001b[49m\u001b[38;5;241;43m.\u001b[39;49m\u001b[43mindex\u001b[49m\u001b[38;5;241;43m.\u001b[39;49m\u001b[43mtz_localize\u001b[49m(\u001b[38;5;124m\"\u001b[39m\u001b[38;5;124mUTC\u001b[39m\u001b[38;5;124m\"\u001b[39m)\u001b[38;5;241m.\u001b[39mtz_convert(\n\u001b[0;32m    280\u001b[0m     data[\u001b[38;5;124m\"\u001b[39m\u001b[38;5;124mchart\u001b[39m\u001b[38;5;124m\"\u001b[39m][\u001b[38;5;124m\"\u001b[39m\u001b[38;5;124mresult\u001b[39m\u001b[38;5;124m\"\u001b[39m][\u001b[38;5;241m0\u001b[39m][\u001b[38;5;124m\"\u001b[39m\u001b[38;5;124mmeta\u001b[39m\u001b[38;5;124m\"\u001b[39m][\u001b[38;5;124m\"\u001b[39m\u001b[38;5;124mexchangeTimezoneName\u001b[39m\u001b[38;5;124m\"\u001b[39m])\n\u001b[0;32m    282\u001b[0m \u001b[38;5;28;01mif\u001b[39;00m params[\u001b[38;5;124m\"\u001b[39m\u001b[38;5;124minterval\u001b[39m\u001b[38;5;124m\"\u001b[39m][\u001b[38;5;241m-\u001b[39m\u001b[38;5;241m1\u001b[39m] \u001b[38;5;241m==\u001b[39m \u001b[38;5;124m\"\u001b[39m\u001b[38;5;124mm\u001b[39m\u001b[38;5;124m\"\u001b[39m:\n\u001b[0;32m    283\u001b[0m     df\u001b[38;5;241m.\u001b[39mindex\u001b[38;5;241m.\u001b[39mname \u001b[38;5;241m=\u001b[39m \u001b[38;5;124m\"\u001b[39m\u001b[38;5;124mDatetime\u001b[39m\u001b[38;5;124m\"\u001b[39m\n",
      "\u001b[1;31mAttributeError\u001b[0m: 'Index' object has no attribute 'tz_localize'"
     ]
    }
   ],
   "source": [
    "tesla_data = Tesla.history(period=\"max\")"
   ]
  },
  {
   "cell_type": "code",
   "execution_count": null,
   "metadata": {
    "tags": []
   },
   "outputs": [],
   "source": [
    "tesla_data.reset_index(inplace=True)\n",
    "tesla_data.head()"
   ]
  },
  {
   "cell_type": "code",
   "execution_count": null,
   "metadata": {
    "tags": []
   },
   "outputs": [],
   "source": [
    "url=\"https://cf-courses-data.s3.us.cloud-object-storage.appdomain.cloud/IBMDeveloperSkillsNetwork-PY0220EN-SkillsNetwork/labs/project/revenue.htm\"\n",
    "html_data  = requests.get(url).text"
   ]
  },
  {
   "cell_type": "code",
   "execution_count": null,
   "metadata": {
    "tags": []
   },
   "outputs": [],
   "source": [
    "soup=BeautifulSoup(html_data,'html.parser')"
   ]
  },
  {
   "cell_type": "markdown",
   "metadata": {},
   "source": [
    "Using `BeautifulSoup` or the `read_html` function extract the table with `Tesla Revenue` and store it into a dataframe named `tesla_revenue`. The dataframe should have columns `Date` and `Revenue`.\n"
   ]
  },
  {
   "cell_type": "code",
   "execution_count": null,
   "metadata": {
    "tags": []
   },
   "outputs": [],
   "source": [
    "tesla_revenue = pd.DataFrame(columns = ['Date', 'Revenue'])\n",
    "for row in soup.find_all(\"tbody\")[1].find_all(\"tr\"):\n",
    "    col = row.find_all(\"td\")\n",
    "    date = col[0].text\n",
    "    revenue = col[1].text\n",
    "    tesla_revenue = tesla_revenue.append({\"Date\": date, \"Revenue\": revenue}, ignore_index = True)"
   ]
  },
  {
   "cell_type": "code",
   "execution_count": null,
   "metadata": {
    "tags": []
   },
   "outputs": [],
   "source": [
    "tesla_revenue[\"Revenue\"] = tesla_revenue['Revenue'].str.replace(',|\\$',\"\")"
   ]
  },
  {
   "cell_type": "code",
   "execution_count": null,
   "metadata": {
    "tags": []
   },
   "outputs": [],
   "source": [
    "tesla_revenue.dropna(inplace=True)\n",
    "\n",
    "tesla_revenue = tesla_revenue[tesla_revenue['Revenue'] != \"\"]"
   ]
  },
  {
   "cell_type": "code",
   "execution_count": null,
   "metadata": {
    "tags": []
   },
   "outputs": [],
   "source": [
    "tesla_revenue.tail(5)\n",
    "make_graph(tesla_data, tesla_revenue, 'Tesla')"
   ]
  },
  {
   "cell_type": "code",
   "execution_count": null,
   "metadata": {
    "tags": []
   },
   "outputs": [],
   "source": [
    "gme = yf.Ticker(\"GME\")"
   ]
  },
  {
   "cell_type": "code",
   "execution_count": null,
   "metadata": {
    "tags": []
   },
   "outputs": [],
   "source": [
    "gme_data = gme.history(period=\"max\")"
   ]
  },
  {
   "cell_type": "code",
   "execution_count": null,
   "metadata": {
    "tags": []
   },
   "outputs": [],
   "source": [
    "gme_data.reset_index(inplace=True)\n",
    "gme_data.head()"
   ]
  },
  {
   "cell_type": "code",
   "execution_count": null,
   "metadata": {
    "tags": []
   },
   "outputs": [],
   "source": [
    "url = \"https://cf-courses-data.s3.us.cloud-object-storage.appdomain.cloud/IBMDeveloperSkillsNetwork-PY0220EN-SkillsNetwork/labs/project/stock.html\"\n",
    "html_data_2 = requests.get(url).text"
   ]
  },
  {
   "cell_type": "code",
   "execution_count": null,
   "metadata": {
    "tags": []
   },
   "outputs": [],
   "source": [
    "soup = BeautifulSoup(html_data_2, 'html.parser')"
   ]
  },
  {
   "cell_type": "code",
   "execution_count": null,
   "metadata": {
    "tags": []
   },
   "outputs": [],
   "source": [
    "gme_revenue = pd.read_html(html_data_2, match=\"GameStop Quarterly Revenue\")[0]\n",
    "gme_revenue.rename(inplace=True, columns={\"GameStop Quarterly Revenue(Millions of US $)\": \"Date\", \"GameStop Quarterly Revenue(Millions of US $).1\": \"Revenue\"})\n",
    "gme_revenue[\"Revenue\"] = gme_revenue['Revenue'].str.replace(',|\\$',\"\",regex=True)\n",
    "gme_revenue.dropna(inplace=True)\n",
    "gme_revenue = gme_revenue[gme_revenue['Revenue'] != \"\"]"
   ]
  },
  {
   "cell_type": "code",
   "execution_count": null,
   "metadata": {
    "tags": []
   },
   "outputs": [],
   "source": [
    "gme_revenue.tail()"
   ]
  },
  {
   "cell_type": "code",
   "execution_count": null,
   "metadata": {
    "tags": []
   },
   "outputs": [],
   "source": [
    "make_graph(tesla_data, tesla_revenue, 'Tesla')"
   ]
  },
  {
   "cell_type": "code",
   "execution_count": null,
   "metadata": {
    "tags": []
   },
   "outputs": [],
   "source": [
    "make_graph(gme_data, gme_revenue, \"GameStop\")"
   ]
  }
 ],
 "metadata": {
  "kernelspec": {
   "display_name": "Python 3",
   "language": "python",
   "name": "python3"
  },
  "language_info": {
   "codemirror_mode": {
    "name": "ipython",
    "version": 3
   },
   "file_extension": ".py",
   "mimetype": "text/x-python",
   "name": "python",
   "nbconvert_exporter": "python",
   "pygments_lexer": "ipython3",
   "version": "3.11.4"
  },
  "prev_pub_hash": "39a78a77cc568f481ff822a398063bacdd4e567b2b1e8a39dc1b7cf3b29bc96b"
 },
 "nbformat": 4,
 "nbformat_minor": 4
}
